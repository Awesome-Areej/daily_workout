{
  "nbformat": 4,
  "nbformat_minor": 0,
  "metadata": {
    "colab": {
      "name": "Untitled50.ipynb",
      "provenance": [],
      "authorship_tag": "ABX9TyMN2NaHy40/5b1KjRDiF1VL",
      "include_colab_link": true
    },
    "kernelspec": {
      "name": "python3",
      "display_name": "Python 3"
    },
    "language_info": {
      "name": "python"
    }
  },
  "cells": [
    {
      "cell_type": "markdown",
      "metadata": {
        "id": "view-in-github",
        "colab_type": "text"
      },
      "source": [
        "<a href=\"https://colab.research.google.com/github/Awesome-Areej/daily_workout/blob/main/permutations_and_probabilities.ipynb\" target=\"_parent\"><img src=\"https://colab.research.google.com/assets/colab-badge.svg\" alt=\"Open In Colab\"/></a>"
      ]
    },
    {
      "cell_type": "code",
      "execution_count": 4,
      "metadata": {
        "id": "NFIIQ4seQfwD"
      },
      "outputs": [],
      "source": [
        "import numpy as np"
      ]
    },
    {
      "cell_type": "code",
      "source": [
        "np.random.choice([2, 5])"
      ],
      "metadata": {
        "colab": {
          "base_uri": "https://localhost:8080/"
        },
        "id": "54UNj4ymQkOw",
        "outputId": "61e5d002-62ba-46a1-c121-80ec9c55b145"
      },
      "execution_count": 2,
      "outputs": [
        {
          "output_type": "execute_result",
          "data": {
            "text/plain": [
              "2"
            ]
          },
          "metadata": {},
          "execution_count": 2
        }
      ]
    },
    {
      "cell_type": "code",
      "source": [
        "p = 5003\n",
        "q = 45\n",
        "r = 15\n",
        "\n",
        "\n",
        "bag = [\"red\"]*p + [\"green\"]*q + [\"yellow\"]*r\n"
      ],
      "metadata": {
        "id": "GbduI5VRQq2L"
      },
      "execution_count": 106,
      "outputs": []
    },
    {
      "cell_type": "code",
      "source": [
        "red_counter =0\n",
        "\n",
        "reps = 1000000\n",
        "for i in range(reps):\n",
        "  color = np.random.choice(bag)\n",
        "  if color == \"red\":\n",
        "    red_counter +=1\n",
        "\n",
        "red_counter/reps"
      ],
      "metadata": {
        "colab": {
          "base_uri": "https://localhost:8080/"
        },
        "id": "9NLkDb35QyTl",
        "outputId": "eac5c32b-6234-4040-bf46-43913de64917"
      },
      "execution_count": 8,
      "outputs": [
        {
          "output_type": "execute_result",
          "data": {
            "text/plain": [
              "0.333573"
            ]
          },
          "metadata": {},
          "execution_count": 8
        }
      ]
    },
    {
      "cell_type": "code",
      "source": [
        "def probability(n):\n",
        "  red_count =0\n",
        "  yellow_count =0\n",
        "  green_count =0\n",
        "  reps = 10000\n",
        "  for i in range(reps):\n",
        "    colour = np.random.choice(bag)\n",
        "    if colour == \"red\":\n",
        "      red_count += 1\n",
        "    elif colour == \"green\":\n",
        "      green_count += 1\n",
        "    elif colour == \"yellow\":\n",
        "      yellow_count += 1\n",
        "  print(red_count*1.0/reps)\n",
        "  print(green_count*1.0/reps)\n",
        "  print(yellow_count*1.0/reps)\n",
        "  if n == \"red\":\n",
        "    return (green_count+yellow_count)/reps\n",
        "  elif n == \"green\":\n",
        "    return (red_count+yellow_count)/reps\n",
        "  elif n == \"yellow\":\n",
        "    return (red_count+green_count)/reps"
      ],
      "metadata": {
        "id": "PS_OykAGRXI3"
      },
      "execution_count": 101,
      "outputs": []
    },
    {
      "cell_type": "code",
      "source": [
        "probability(\"red\")"
      ],
      "metadata": {
        "colab": {
          "base_uri": "https://localhost:8080/"
        },
        "id": "rMxrXQsylNV8",
        "outputId": "1ef430eb-8ba2-4359-bbc1-c7f43a034163"
      },
      "execution_count": 107,
      "outputs": [
        {
          "output_type": "stream",
          "name": "stdout",
          "text": [
            "0.9877\n",
            "0.01\n",
            "0.0023\n"
          ]
        },
        {
          "output_type": "execute_result",
          "data": {
            "text/plain": [
              "0.0123"
            ]
          },
          "metadata": {},
          "execution_count": 107
        }
      ]
    },
    {
      "cell_type": "code",
      "source": [
        "probability(\"yellow\")"
      ],
      "metadata": {
        "colab": {
          "base_uri": "https://localhost:8080/"
        },
        "id": "blTWN6rllShZ",
        "outputId": "e7639475-51f4-4e96-80a6-45a648b9001b"
      },
      "execution_count": 108,
      "outputs": [
        {
          "output_type": "stream",
          "name": "stdout",
          "text": [
            "0.9883\n",
            "0.0089\n",
            "0.0028\n"
          ]
        },
        {
          "output_type": "execute_result",
          "data": {
            "text/plain": [
              "0.9972"
            ]
          },
          "metadata": {},
          "execution_count": 108
        }
      ]
    },
    {
      "cell_type": "code",
      "source": [
        "probability(\"green\")"
      ],
      "metadata": {
        "colab": {
          "base_uri": "https://localhost:8080/"
        },
        "id": "eXm9ADa4nElJ",
        "outputId": "c141672a-17dd-4937-b15e-a2d3d111db63"
      },
      "execution_count": 109,
      "outputs": [
        {
          "output_type": "stream",
          "name": "stdout",
          "text": [
            "0.9869\n",
            "0.01\n",
            "0.0031\n"
          ]
        },
        {
          "output_type": "execute_result",
          "data": {
            "text/plain": [
              "0.99"
            ]
          },
          "metadata": {},
          "execution_count": 109
        }
      ]
    },
    {
      "cell_type": "code",
      "source": [
        "def permutations(word, ward):\n",
        "  dict1 = {}\n",
        "  dict2 = {}\n",
        "  length = len(word)\n",
        "  length1 = len(ward)\n",
        "  if length != length1:\n",
        "    return False\n",
        "  else:\n",
        "    for i in range(length):\n",
        "      character = word[i]\n",
        "      if character in dict1.keys():\n",
        "        dict1[character] += 1\n",
        "      else:\n",
        "        dict1[character] = 1\n",
        "    \n",
        "    for j in range(length1):\n",
        "      character1 = ward[j]\n",
        "      if character1 in dict2.keys():\n",
        "        dict2[character1] += 1\n",
        "      else:\n",
        "        dict2[character1] = 1\n",
        "\n",
        "    for k in range(len(list(dict1))):\n",
        "      subscriptable = dict1.values()\n",
        "      total = (list(subscriptable)[k])\n",
        "    if total > 1:\n",
        "      print (\"is \" + word + \" subscriptable? {}\".format(False))\n",
        "      print (\"-----------\")\n",
        "    else:\n",
        "      print (\"is \" + word + \" subscriptable? {}\".format(True))\n",
        "      print (\"-----------\")\n",
        "      \n",
        "    for l in range(len(list(dict2))):\n",
        "      subscriptable = dict2.values()\n",
        "      total = (list(subscriptable)[l])\n",
        "    if total > 1:\n",
        "      print (\"is \" + ward + \" subscriptable? {}\".format(False))\n",
        "      print (\"-----------\")\n",
        "    else:\n",
        "      print (\"is \" + ward + \" subscriptable? {}\".format(True))\n",
        "      print (\"-----------\")\n",
        "\n",
        "\n",
        "    print (\"Permutations?\")\n",
        "    return sorted(dict1.keys()) == sorted(dict2.keys()) and sorted(dict1.values()) == sorted(dict2.values())"
      ],
      "metadata": {
        "id": "NeRDhO-knTtz"
      },
      "execution_count": 84,
      "outputs": []
    },
    {
      "cell_type": "code",
      "source": [
        "permutations(\"hello\", \"ellho\")"
      ],
      "metadata": {
        "colab": {
          "base_uri": "https://localhost:8080/"
        },
        "id": "7AfQGoiprYUb",
        "outputId": "92aa7ce0-0e5e-4690-b556-bc347b8a7ce9"
      },
      "execution_count": 85,
      "outputs": [
        {
          "output_type": "stream",
          "name": "stdout",
          "text": [
            "is hello subscriptable? True\n",
            "-----------\n",
            "is ellho subscriptable? True\n",
            "-----------\n",
            "Permutations?\n"
          ]
        },
        {
          "output_type": "execute_result",
          "data": {
            "text/plain": [
              "True"
            ]
          },
          "metadata": {},
          "execution_count": 85
        }
      ]
    },
    {
      "cell_type": "code",
      "source": [
        ""
      ],
      "metadata": {
        "id": "3dqA07U5ra_t"
      },
      "execution_count": null,
      "outputs": []
    }
  ]
}